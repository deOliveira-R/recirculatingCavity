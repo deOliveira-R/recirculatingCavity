{
 "cells": [
  {
   "cell_type": "code",
   "execution_count": 84,
   "metadata": {},
   "outputs": [],
   "source": [
    "from sympy.abc import x, y, z\n",
    "from sympy import symbols, Function, Array\n",
    "from sympy import derive_by_array, tensorcontraction, tensorproduct\n",
    "from sympy import pprint\n",
    "\n",
    "coord = [x, y, z]"
   ]
  },
  {
   "cell_type": "code",
   "execution_count": 85,
   "metadata": {},
   "outputs": [
    {
     "name": "stdout",
     "output_type": "stream",
     "text": [
      "f(x, y, z)\n",
      "⎡∂               ∂               ∂             ⎤\n",
      "⎢──(f(x, y, z))  ──(f(x, y, z))  ──(f(x, y, z))⎥\n",
      "⎣∂x              ∂y              ∂z            ⎦\n",
      "∂                ∂                ∂             \n",
      "──(f(x, y, z)) + ──(f(x, y, z)) + ──(f(x, y, z))\n",
      "∂x               ∂y               ∂z            \n"
     ]
    }
   ],
   "source": [
    "temp = Function(\"f\")(x,y,z)\n",
    "\n",
    "pprint(temp)\n",
    "#print(temp.rank())\n",
    "#print(temp.shape)\n",
    "pprint(derive_by_array(temp, coord))\n",
    "pprint(tensorcontraction(derive_by_array(temp, coord), (0,)))\n",
    "\n",
    "#print(scalar)\n",
    "#print(scalar.rank())\n",
    "#print(scalar.shape)"
   ]
  },
  {
   "cell_type": "code",
   "execution_count": 86,
   "metadata": {},
   "outputs": [
    {
     "name": "stdout",
     "output_type": "stream",
     "text": [
      "[f₁(x, y, z)  f₂(x, y, z)  f₃(x, y, z)]\n",
      "1\n",
      "(3,)\n",
      "⎡       2                                                                 ⎤\n",
      "⎢     f₁ (x, y, z)        f₁(x, y, z)⋅f₂(x, y, z)  f₁(x, y, z)⋅f₃(x, y, z)⎥\n",
      "⎢                                                                         ⎥\n",
      "⎢                                2                                        ⎥\n",
      "⎢f₁(x, y, z)⋅f₂(x, y, z)       f₂ (x, y, z)        f₂(x, y, z)⋅f₃(x, y, z)⎥\n",
      "⎢                                                                         ⎥\n",
      "⎢                                                         2               ⎥\n",
      "⎣f₁(x, y, z)⋅f₃(x, y, z)  f₂(x, y, z)⋅f₃(x, y, z)       f₃ (x, y, z)      ⎦\n",
      "⎡∂                ∂                ∂              ⎤\n",
      "⎢──(f₁(x, y, z))  ──(f₂(x, y, z))  ──(f₃(x, y, z))⎥\n",
      "⎢∂x               ∂x               ∂x             ⎥\n",
      "⎢                                                 ⎥\n",
      "⎢∂                ∂                ∂              ⎥\n",
      "⎢──(f₁(x, y, z))  ──(f₂(x, y, z))  ──(f₃(x, y, z))⎥\n",
      "⎢∂y               ∂y               ∂y             ⎥\n",
      "⎢                                                 ⎥\n",
      "⎢∂                ∂                ∂              ⎥\n",
      "⎢──(f₁(x, y, z))  ──(f₂(x, y, z))  ──(f₃(x, y, z))⎥\n",
      "⎣∂z               ∂z               ∂z             ⎦\n",
      "∂                 ∂                 ∂              \n",
      "──(f₁(x, y, z)) + ──(f₂(x, y, z)) + ──(f₃(x, y, z))\n",
      "∂x                ∂y                ∂z             \n"
     ]
    }
   ],
   "source": [
    "vector = Array([Function(\"f_{0}\".format(i))(x,y,z) for i in range(1,4)])\n",
    "\n",
    "pprint(vector)\n",
    "pprint(vector.rank())\n",
    "pprint(vector.shape)\n",
    "pprint(tensorproduct(vector, vector))\n",
    "pprint(derive_by_array(vector, coord))\n",
    "pprint(tensorcontraction(derive_by_array(vector, coord), (0, 1)))"
   ]
  },
  {
   "cell_type": "code",
   "execution_count": 87,
   "metadata": {},
   "outputs": [
    {
     "name": "stdout",
     "output_type": "stream",
     "text": [
      "⎡f₁₁(x, y, z)  f₁₂(x, y, z)  f₁₃(x, y, z)⎤\n",
      "⎢                                        ⎥\n",
      "⎢f₂₁(x, y, z)  f₂₂(x, y, z)  f₂₃(x, y, z)⎥\n",
      "⎢                                        ⎥\n",
      "⎣f₃₁(x, y, z)  f₃₂(x, y, z)  f₃₃(x, y, z)⎦\n",
      "2\n",
      "(3, 3)\n"
     ]
    }
   ],
   "source": [
    "tensor = Array([[Function(\"f_{0}{1}\".format(j,i))(x,y,z) for i in range(1,4)] for j in range(1,4)])\n",
    "\n",
    "pprint(tensor)\n",
    "pprint(tensor.rank())\n",
    "pprint(tensor.shape)"
   ]
  },
  {
   "cell_type": "code",
   "execution_count": 88,
   "metadata": {},
   "outputs": [
    {
     "name": "stdout",
     "output_type": "stream",
     "text": [
      "[[f₀₁(x, y, z)  f₀₂(x, y, z)  f₀₃(x, y, z)]]\n",
      "2\n",
      "(1, 3)\n"
     ]
    }
   ],
   "source": [
    "tensor = Array([[Function(\"f_{0}{1}\".format(j,i))(x,y,z) for i in range(1,4)] for j in range(1,)])\n",
    "\n",
    "pprint(tensor)\n",
    "pprint(tensor.rank())\n",
    "pprint(tensor.shape)"
   ]
  }
 ],
 "metadata": {
  "kernelspec": {
   "display_name": "Python 3",
   "language": "python",
   "name": "python3"
  },
  "language_info": {
   "codemirror_mode": {
    "name": "ipython",
    "version": 3
   },
   "file_extension": ".py",
   "mimetype": "text/x-python",
   "name": "python",
   "nbconvert_exporter": "python",
   "pygments_lexer": "ipython3",
   "version": "3.6.2"
  }
 },
 "nbformat": 4,
 "nbformat_minor": 2
}
